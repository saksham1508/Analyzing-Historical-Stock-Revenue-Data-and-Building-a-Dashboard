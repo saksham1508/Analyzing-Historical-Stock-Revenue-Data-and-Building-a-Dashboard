{
 "cells": [
  {
   "cell_type": "markdown",
   "id": "3b0c46e8",
   "metadata": {},
   "source": [
    "# Stock and Revenue Data Extraction and Analysis\n",
    "\n",
    "This notebook demonstrates how to extract, clean, analyze, and visualize historical stock and revenue data for Tesla and GameStop using the project modules."
   ]
  },
  {
   "cell_type": "code",
   "execution_count": null,
   "id": "4ecdd797",
   "metadata": {},
   "outputs": [],
   "source": [
    "# Import required modules\n",
    "import pandas as pd\n",
    "from src.data_cleaner import clean_stock_data, clean_revenue_data\n",
    "from src.data_analysis import analyze_stock_trends, analyze_revenue_trends\n",
    "from src.visualization import plot_stock_data, plot_revenue_data"
   ]
  },
  {
   "cell_type": "markdown",
   "id": "5623071b",
   "metadata": {},
   "source": [
    "## Load Extracted Data\n",
    "\n",
    "Load the previously extracted Tesla and GameStop stock and revenue data from the `data/` folder."
   ]
  },
  {
   "cell_type": "code",
   "execution_count": null,
   "id": "56d963a0",
   "metadata": {},
   "outputs": [],
   "source": [
    "tesla_stock = pd.read_excel('data/tesla_stock.xlsx')\n",
    "tesla_revenue = pd.read_excel('data/tesla_revenue.xlsx')\n",
    "gme_stock = pd.read_excel('data/gme_stock.xlsx')\n",
    "gme_revenue = pd.read_excel('data/gme_revenue.xlsx')"
   ]
  },
  {
   "cell_type": "markdown",
   "id": "79858c64",
   "metadata": {},
   "source": [
    "## Clean Data"
   ]
  },
  {
   "cell_type": "code",
   "execution_count": null,
   "id": "59e954a2",
   "metadata": {},
   "outputs": [],
   "source": [
    "tesla_stock_clean = clean_stock_data(tesla_stock)\n",
    "tesla_revenue_clean = clean_revenue_data(tesla_revenue)\n",
    "gme_stock_clean = clean_stock_data(gme_stock)\n",
    "gme_revenue_clean = clean_revenue_data(gme_revenue)"
   ]
  },
  {
   "cell_type": "markdown",
   "id": "6beba7bb",
   "metadata": {},
   "source": [
    "## Analyze Data"
   ]
  },
  {
   "cell_type": "code",
   "execution_count": null,
   "id": "37d52bb7",
   "metadata": {},
   "outputs": [],
   "source": [
    "print('Tesla Stock Analysis:')\n",
    "display(analyze_stock_trends(tesla_stock_clean))\n",
    "print('Tesla Revenue Analysis:')\n",
    "display(analyze_revenue_trends(tesla_revenue_clean))\n",
    "print('GameStop Stock Analysis:')\n",
    "display(analyze_stock_trends(gme_stock_clean))\n",
    "print('GameStop Revenue Analysis:')\n",
    "display(analyze_revenue_trends(gme_revenue_clean))"
   ]
  },
  {
   "cell_type": "markdown",
   "id": "51e33319",
   "metadata": {},
   "source": [
    "## Visualize Data"
   ]
  },
  {
   "cell_type": "code",
   "execution_count": null,
   "id": "ad55f470",
   "metadata": {},
   "outputs": [],
   "source": [
    "plot_stock_data(tesla_stock_clean)\n",
    "plot_revenue_data(tesla_revenue_clean)\n",
    "plot_stock_data(gme_stock_clean)\n",
    "plot_revenue_data(gme_revenue_clean)"
   ]
  }
 ],
 "metadata": {
  "language_info": {
   "name": "python"
  }
 },
 "nbformat": 4,
 "nbformat_minor": 5
}
